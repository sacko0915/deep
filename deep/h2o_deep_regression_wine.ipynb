{
 "cells": [
  {
   "cell_type": "markdown",
   "metadata": {},
   "source": [
    "# H2O를 활용한 정형데이터 딥러닝 분석 - 회귀 Regression\n",
    "\n",
    "## H2O 설치\n",
    "\n",
    "먼저 파이썬 환경에서 실습하기 위해서는 h2o python module을 설치해야 함\n",
    "Python 버전은 2.7 or 3.5+\n",
    "\n",
    "    >> pip install requests\n",
    "    >> pip install tabulate\n",
    "    >> pip install scikit-learn\n",
    "    >> pip install colorama\n",
    "    >> pip install future\n",
    "    >> pip install https://h2o-release.s3.amazonaws.com/h2o/rel-weierstrass/6/Python/h2o-3.14.0.6-py2.py3-none-any.whl\n",
    "\n",
    "만약 최신버전이 나왔다면\n",
    "\n",
    "    >> pip uninstall h2o\n",
    "    \n",
    "로 기존 h2o를 제거하고 새로운 버전의 h2o를 설치하면 된다"
   ]
  },
  {
   "cell_type": "markdown",
   "metadata": {},
   "source": [
    "## 실습환경 구축"
   ]
  },
  {
   "cell_type": "code",
   "execution_count": 1,
   "metadata": {
    "collapsed": true
   },
   "outputs": [],
   "source": [
    "import h2o\n",
    "from h2o.estimators.deeplearning import H2ODeepLearningEstimator"
   ]
  },
  {
   "cell_type": "code",
   "execution_count": 2,
   "metadata": {},
   "outputs": [
    {
     "name": "stdout",
     "output_type": "stream",
     "text": [
      "Checking whether there is an H2O instance running at http://localhost:54321..... not found.\n",
      "Attempting to start a local H2O server...\n",
      "; Java HotSpot(TM) 64-Bit Server VM (build 25.131-b11, mixed mode)\n",
      "  Starting server from C:\\ProgramData\\Anaconda3\\lib\\site-packages\\h2o\\backend\\bin\\h2o.jar\n",
      "  Ice root: C:\\Users\\DAVIDO~1\\AppData\\Local\\Temp\\tmptzaa682o\n",
      "  JVM stdout: C:\\Users\\DAVIDO~1\\AppData\\Local\\Temp\\tmptzaa682o\\h2o_David_Oh_started_from_python.out\n",
      "  JVM stderr: C:\\Users\\DAVIDO~1\\AppData\\Local\\Temp\\tmptzaa682o\\h2o_David_Oh_started_from_python.err\n",
      "  Server is running at http://127.0.0.1:54321\n",
      "Connecting to H2O server at http://127.0.0.1:54321... successful.\n"
     ]
    },
    {
     "data": {
      "text/html": [
       "<div style=\"overflow:auto\"><table style=\"width:50%\"><tr><td>H2O cluster uptime:</td>\n",
       "<td>03 secs</td></tr>\n",
       "<tr><td>H2O cluster version:</td>\n",
       "<td>3.14.0.6</td></tr>\n",
       "<tr><td>H2O cluster version age:</td>\n",
       "<td>10 days </td></tr>\n",
       "<tr><td>H2O cluster name:</td>\n",
       "<td>H2O_from_python_David_Oh_xmlok6</td></tr>\n",
       "<tr><td>H2O cluster total nodes:</td>\n",
       "<td>1</td></tr>\n",
       "<tr><td>H2O cluster free memory:</td>\n",
       "<td>3.531 Gb</td></tr>\n",
       "<tr><td>H2O cluster total cores:</td>\n",
       "<td>4</td></tr>\n",
       "<tr><td>H2O cluster allowed cores:</td>\n",
       "<td>4</td></tr>\n",
       "<tr><td>H2O cluster status:</td>\n",
       "<td>accepting new members, healthy</td></tr>\n",
       "<tr><td>H2O connection url:</td>\n",
       "<td>http://127.0.0.1:54321</td></tr>\n",
       "<tr><td>H2O connection proxy:</td>\n",
       "<td>None</td></tr>\n",
       "<tr><td>H2O internal security:</td>\n",
       "<td>False</td></tr>\n",
       "<tr><td>H2O API Extensions:</td>\n",
       "<td>Algos, AutoML, Core V3, Core V4</td></tr>\n",
       "<tr><td>Python version:</td>\n",
       "<td>3.6.1 final</td></tr></table></div>"
      ],
      "text/plain": [
       "--------------------------  -------------------------------\n",
       "H2O cluster uptime:         03 secs\n",
       "H2O cluster version:        3.14.0.6\n",
       "H2O cluster version age:    10 days\n",
       "H2O cluster name:           H2O_from_python_David_Oh_xmlok6\n",
       "H2O cluster total nodes:    1\n",
       "H2O cluster free memory:    3.531 Gb\n",
       "H2O cluster total cores:    4\n",
       "H2O cluster allowed cores:  4\n",
       "H2O cluster status:         accepting new members, healthy\n",
       "H2O connection url:         http://127.0.0.1:54321\n",
       "H2O connection proxy:\n",
       "H2O internal security:      False\n",
       "H2O API Extensions:         Algos, AutoML, Core V3, Core V4\n",
       "Python version:             3.6.1 final\n",
       "--------------------------  -------------------------------"
      ]
     },
     "metadata": {},
     "output_type": "display_data"
    }
   ],
   "source": [
    "h2o.init()"
   ]
  },
  {
   "cell_type": "markdown",
   "metadata": {},
   "source": [
    "## wine Data를 활용한 Regression in Deep Learning\n",
    "\n",
    "Regression에서 많이 활용되는 유명한 wine 데이터로 딥러닝 알고리즘 기반 회귀분석\n",
    "\n",
    "   Input variables (based on physicochemical tests):\n",
    "   1 - fixed acidity\n",
    "   2 - volatile acidity\n",
    "   3 - citric acid\n",
    "   4 - residual sugar\n",
    "   5 - chlorides\n",
    "   6 - free sulfur dioxide\n",
    "   7 - total sulfur dioxide\n",
    "   8 - density\n",
    "   9 - pH\n",
    "   10 - sulphates\n",
    "   11 - alcohol\n",
    "   Output variable (based on sensory data): \n",
    "   12 - quality (score between 0 and 10)\n",
    "\n",
    "quality 값을 회귀 예측하는 것을 목표로함"
   ]
  },
  {
   "cell_type": "code",
   "execution_count": 3,
   "metadata": {},
   "outputs": [
    {
     "name": "stdout",
     "output_type": "stream",
     "text": [
      "Parse progress: |█████████████████████████████████████████████████████████| 100%\n"
     ]
    },
    {
     "data": {
      "text/plain": [
       "(4898, 12)"
      ]
     },
     "execution_count": 3,
     "metadata": {},
     "output_type": "execute_result"
    }
   ],
   "source": [
    "# wine 데이터를 입력한다\n",
    "data = h2o.import_file('https://archive.ics.uci.edu/ml/machine-learning-databases/wine-quality/winequality-white.csv', sep=';')\n",
    "data.shape"
   ]
  },
  {
   "cell_type": "code",
   "execution_count": 4,
   "metadata": {},
   "outputs": [
    {
     "data": {
      "text/html": [
       "<table>\n",
       "<thead>\n",
       "<tr><th style=\"text-align: right;\">  fixed acidity</th><th style=\"text-align: right;\">  volatile acidity</th><th style=\"text-align: right;\">  citric acid</th><th style=\"text-align: right;\">  residual sugar</th><th style=\"text-align: right;\">  chlorides</th><th style=\"text-align: right;\">  free sulfur dioxide</th><th style=\"text-align: right;\">  total sulfur dioxide</th><th style=\"text-align: right;\">  density</th><th style=\"text-align: right;\">  pH</th><th style=\"text-align: right;\">  sulphates</th><th style=\"text-align: right;\">  alcohol</th><th style=\"text-align: right;\">  quality</th></tr>\n",
       "</thead>\n",
       "<tbody>\n",
       "<tr><td style=\"text-align: right;\">            7  </td><td style=\"text-align: right;\">              0.27</td><td style=\"text-align: right;\">         0.36</td><td style=\"text-align: right;\">            20.7</td><td style=\"text-align: right;\">      0.045</td><td style=\"text-align: right;\">                   45</td><td style=\"text-align: right;\">                   170</td><td style=\"text-align: right;\">   1.001 </td><td style=\"text-align: right;\">3   </td><td style=\"text-align: right;\">       0.45</td><td style=\"text-align: right;\">      8.8</td><td style=\"text-align: right;\">        6</td></tr>\n",
       "<tr><td style=\"text-align: right;\">            6.3</td><td style=\"text-align: right;\">              0.3 </td><td style=\"text-align: right;\">         0.34</td><td style=\"text-align: right;\">             1.6</td><td style=\"text-align: right;\">      0.049</td><td style=\"text-align: right;\">                   14</td><td style=\"text-align: right;\">                   132</td><td style=\"text-align: right;\">   0.994 </td><td style=\"text-align: right;\">3.3 </td><td style=\"text-align: right;\">       0.49</td><td style=\"text-align: right;\">      9.5</td><td style=\"text-align: right;\">        6</td></tr>\n",
       "<tr><td style=\"text-align: right;\">            8.1</td><td style=\"text-align: right;\">              0.28</td><td style=\"text-align: right;\">         0.4 </td><td style=\"text-align: right;\">             6.9</td><td style=\"text-align: right;\">      0.05 </td><td style=\"text-align: right;\">                   30</td><td style=\"text-align: right;\">                    97</td><td style=\"text-align: right;\">   0.9951</td><td style=\"text-align: right;\">3.26</td><td style=\"text-align: right;\">       0.44</td><td style=\"text-align: right;\">     10.1</td><td style=\"text-align: right;\">        6</td></tr>\n",
       "<tr><td style=\"text-align: right;\">            7.2</td><td style=\"text-align: right;\">              0.23</td><td style=\"text-align: right;\">         0.32</td><td style=\"text-align: right;\">             8.5</td><td style=\"text-align: right;\">      0.058</td><td style=\"text-align: right;\">                   47</td><td style=\"text-align: right;\">                   186</td><td style=\"text-align: right;\">   0.9956</td><td style=\"text-align: right;\">3.19</td><td style=\"text-align: right;\">       0.4 </td><td style=\"text-align: right;\">      9.9</td><td style=\"text-align: right;\">        6</td></tr>\n",
       "<tr><td style=\"text-align: right;\">            7.2</td><td style=\"text-align: right;\">              0.23</td><td style=\"text-align: right;\">         0.32</td><td style=\"text-align: right;\">             8.5</td><td style=\"text-align: right;\">      0.058</td><td style=\"text-align: right;\">                   47</td><td style=\"text-align: right;\">                   186</td><td style=\"text-align: right;\">   0.9956</td><td style=\"text-align: right;\">3.19</td><td style=\"text-align: right;\">       0.4 </td><td style=\"text-align: right;\">      9.9</td><td style=\"text-align: right;\">        6</td></tr>\n",
       "</tbody>\n",
       "</table>"
      ]
     },
     "metadata": {},
     "output_type": "display_data"
    },
    {
     "data": {
      "text/plain": []
     },
     "execution_count": 4,
     "metadata": {},
     "output_type": "execute_result"
    }
   ],
   "source": [
    "data.head(5)"
   ]
  },
  {
   "cell_type": "markdown",
   "metadata": {},
   "source": [
    "## 데이터 전처리\n",
    "x는 Input Variables의 name을 넣고, y에는 Target Variable의 name을 할당한다\n",
    "\n",
    "wine 데이터는 총 3개로 분할한다.\n",
    "    \n",
    "    1) train: 학습용 데이터\n",
    "    2) valid: 검증용 데이터\n",
    "    3) test: 테스트용 데이터"
   ]
  },
  {
   "cell_type": "code",
   "execution_count": 5,
   "metadata": {},
   "outputs": [],
   "source": [
    "x = data[:-1].columns\n",
    "y = 'quality'"
   ]
  },
  {
   "cell_type": "code",
   "execution_count": 6,
   "metadata": {},
   "outputs": [],
   "source": [
    "# 데이터는 70 : 15 : 15의 비율로 분할하였다\n",
    "splits = data.split_frame(ratios = [0.7, 0.15], seed =1)\n",
    "\n",
    "train = splits[0]\n",
    "valid = splits[1]\n",
    "test = splits[2]"
   ]
  },
  {
   "cell_type": "code",
   "execution_count": 7,
   "metadata": {},
   "outputs": [
    {
     "name": "stdout",
     "output_type": "stream",
     "text": [
      "3459\n",
      "710\n",
      "729\n"
     ]
    }
   ],
   "source": [
    "print(train.nrow)\n",
    "print(valid.nrow)\n",
    "print(test.nrow)"
   ]
  },
  {
   "cell_type": "markdown",
   "metadata": {},
   "source": [
    "## 데이터 모델링\n",
    "\n",
    "딥러닝 모델을 만들고 모델을 학습시킨다. 학습은 위에서 만든 train 데이터로 학습을 시행\n",
    "\n",
    "valid 데이터로 검증을 함께 함"
   ]
  },
  {
   "cell_type": "code",
   "execution_count": 8,
   "metadata": {
    "collapsed": true
   },
   "outputs": [],
   "source": [
    "from h2o.estimators.deeplearning import H2ODeepLearningEstimator"
   ]
  },
  {
   "cell_type": "code",
   "execution_count": 9,
   "metadata": {},
   "outputs": [
    {
     "name": "stdout",
     "output_type": "stream",
     "text": [
      "deeplearning Model Build progress: |██████████████████████████████████████| 100%\n"
     ]
    }
   ],
   "source": [
    "# 딥러닝 모델 생성 및 학습\n",
    "dlmod1 = H2ODeepLearningEstimator(model_id='dlmod1', hidden=[10,10], epochs=10, seed=1)\n",
    "dlmod1.train(x=x, y=y, training_frame=train, validation_frame=valid)"
   ]
  },
  {
   "cell_type": "code",
   "execution_count": 10,
   "metadata": {},
   "outputs": [
    {
     "name": "stdout",
     "output_type": "stream",
     "text": [
      " DL mse TRAIN= 0.5218589809369525 , mse VALID= 0.5113199670405458 , mse TEST= 0.5347020113085751\n"
     ]
    }
   ],
   "source": [
    "# 모델의 성능 확인\n",
    "train_mse_dl = dlmod1.model_performance(train).mse()\n",
    "valid_mse_dl  = dlmod1.model_performance(valid ).mse()\n",
    "test_mse_dl  = dlmod1.model_performance(test ).mse()\n",
    "print (\" DL mse TRAIN=\",train_mse_dl,\", mse VALID=\",valid_mse_dl,\", mse TEST=\",test_mse_dl)"
   ]
  },
  {
   "cell_type": "code",
   "execution_count": 11,
   "metadata": {},
   "outputs": [
    {
     "name": "stdout",
     "output_type": "stream",
     "text": [
      "Model Details\n",
      "=============\n",
      "H2ODeepLearningEstimator :  Deep Learning\n",
      "Model Key:  dlmod1\n",
      "\n",
      "\n",
      "ModelMetricsRegression: deeplearning\n",
      "** Reported on train data. **\n",
      "\n",
      "MSE: 0.5218589809369518\n",
      "RMSE: 0.7223980765041889\n",
      "MAE: 0.5597629013949419\n",
      "RMSLE: 0.1074711459591223\n",
      "Mean Residual Deviance: 0.5218589809369518\n",
      "\n",
      "ModelMetricsRegression: deeplearning\n",
      "** Reported on validation data. **\n",
      "\n",
      "MSE: 0.5113199670405458\n",
      "RMSE: 0.715066407433985\n",
      "MAE: 0.5641108537246852\n",
      "RMSLE: 0.10546051537847546\n",
      "Mean Residual Deviance: 0.5113199670405458\n",
      "Scoring History: \n"
     ]
    },
    {
     "data": {
      "text/html": [
       "<div style=\"overflow:auto\"><table style=\"width:50%\"><tr><td><b></b></td>\n",
       "<td><b>timestamp</b></td>\n",
       "<td><b>duration</b></td>\n",
       "<td><b>training_speed</b></td>\n",
       "<td><b>epochs</b></td>\n",
       "<td><b>iterations</b></td>\n",
       "<td><b>samples</b></td>\n",
       "<td><b>training_rmse</b></td>\n",
       "<td><b>training_deviance</b></td>\n",
       "<td><b>training_mae</b></td>\n",
       "<td><b>validation_rmse</b></td>\n",
       "<td><b>validation_deviance</b></td>\n",
       "<td><b>validation_mae</b></td></tr>\n",
       "<tr><td></td>\n",
       "<td>2017-10-20 14:12:57</td>\n",
       "<td> 0.000 sec</td>\n",
       "<td>None</td>\n",
       "<td>0.0</td>\n",
       "<td>0</td>\n",
       "<td>0.0</td>\n",
       "<td>nan</td>\n",
       "<td>nan</td>\n",
       "<td>nan</td>\n",
       "<td>nan</td>\n",
       "<td>nan</td>\n",
       "<td>nan</td></tr>\n",
       "<tr><td></td>\n",
       "<td>2017-10-20 14:12:58</td>\n",
       "<td> 1.287 sec</td>\n",
       "<td>31162 obs/sec</td>\n",
       "<td>1.0</td>\n",
       "<td>1</td>\n",
       "<td>3459.0</td>\n",
       "<td>0.7660694</td>\n",
       "<td>0.5868623</td>\n",
       "<td>0.5941512</td>\n",
       "<td>0.7441256</td>\n",
       "<td>0.5537229</td>\n",
       "<td>0.5898432</td></tr>\n",
       "<tr><td></td>\n",
       "<td>2017-10-20 14:12:59</td>\n",
       "<td> 1.499 sec</td>\n",
       "<td>118458 obs/sec</td>\n",
       "<td>10.0</td>\n",
       "<td>10</td>\n",
       "<td>34590.0</td>\n",
       "<td>0.7223981</td>\n",
       "<td>0.5218590</td>\n",
       "<td>0.5597629</td>\n",
       "<td>0.7150664</td>\n",
       "<td>0.5113200</td>\n",
       "<td>0.5641109</td></tr></table></div>"
      ],
      "text/plain": [
       "    timestamp            duration    training_speed    epochs    iterations    samples    training_rmse    training_deviance    training_mae    validation_rmse    validation_deviance    validation_mae\n",
       "--  -------------------  ----------  ----------------  --------  ------------  ---------  ---------------  -------------------  --------------  -----------------  ---------------------  ----------------\n",
       "    2017-10-20 14:12:57  0.000 sec                     0         0             0          nan              nan                  nan             nan                nan                    nan\n",
       "    2017-10-20 14:12:58  1.287 sec   31162 obs/sec     1         1             3459       0.766069         0.586862             0.594151        0.744126           0.553723               0.589843\n",
       "    2017-10-20 14:12:59  1.499 sec   118458 obs/sec    10        10            34590      0.722398         0.521859             0.559763        0.715066           0.51132                0.564111"
      ]
     },
     "metadata": {},
     "output_type": "display_data"
    },
    {
     "name": "stdout",
     "output_type": "stream",
     "text": [
      "Variable Importances: \n"
     ]
    },
    {
     "data": {
      "text/html": [
       "<div style=\"overflow:auto\"><table style=\"width:50%\"><tr><td><b>variable</b></td>\n",
       "<td><b>relative_importance</b></td>\n",
       "<td><b>scaled_importance</b></td>\n",
       "<td><b>percentage</b></td></tr>\n",
       "<tr><td>residual sugar</td>\n",
       "<td>1.0</td>\n",
       "<td>1.0</td>\n",
       "<td>0.1209199</td></tr>\n",
       "<tr><td>volatile acidity</td>\n",
       "<td>0.9081931</td>\n",
       "<td>0.9081931</td>\n",
       "<td>0.1098186</td></tr>\n",
       "<tr><td>total sulfur dioxide</td>\n",
       "<td>0.8418853</td>\n",
       "<td>0.8418853</td>\n",
       "<td>0.1018007</td></tr>\n",
       "<tr><td>fixed acidity</td>\n",
       "<td>0.8258755</td>\n",
       "<td>0.8258755</td>\n",
       "<td>0.0998648</td></tr>\n",
       "<tr><td>alcohol</td>\n",
       "<td>0.7953501</td>\n",
       "<td>0.7953501</td>\n",
       "<td>0.0961736</td></tr>\n",
       "<tr><td>citric acid</td>\n",
       "<td>0.7945948</td>\n",
       "<td>0.7945948</td>\n",
       "<td>0.0960823</td></tr>\n",
       "<tr><td>free sulfur dioxide</td>\n",
       "<td>0.7723160</td>\n",
       "<td>0.7723160</td>\n",
       "<td>0.0933884</td></tr>\n",
       "<tr><td>pH</td>\n",
       "<td>0.7467077</td>\n",
       "<td>0.7467077</td>\n",
       "<td>0.0902918</td></tr>\n",
       "<tr><td>density</td>\n",
       "<td>0.5554624</td>\n",
       "<td>0.5554624</td>\n",
       "<td>0.0671664</td></tr>\n",
       "<tr><td>chlorides</td>\n",
       "<td>0.5229405</td>\n",
       "<td>0.5229405</td>\n",
       "<td>0.0632339</td></tr>\n",
       "<tr><td>sulphates</td>\n",
       "<td>0.5066143</td>\n",
       "<td>0.5066143</td>\n",
       "<td>0.0612597</td></tr></table></div>"
      ],
      "text/plain": [
       "variable              relative_importance    scaled_importance    percentage\n",
       "--------------------  ---------------------  -------------------  ------------\n",
       "residual sugar        1                      1                    0.12092\n",
       "volatile acidity      0.908193               0.908193             0.109819\n",
       "total sulfur dioxide  0.841885               0.841885             0.101801\n",
       "fixed acidity         0.825875               0.825875             0.0998648\n",
       "alcohol               0.79535                0.79535              0.0961736\n",
       "citric acid           0.794595               0.794595             0.0960823\n",
       "free sulfur dioxide   0.772316               0.772316             0.0933884\n",
       "pH                    0.746708               0.746708             0.0902918\n",
       "density               0.555462               0.555462             0.0671664\n",
       "chlorides             0.522941               0.522941             0.0632339\n",
       "sulphates             0.506614               0.506614             0.0612597"
      ]
     },
     "metadata": {},
     "output_type": "display_data"
    }
   ],
   "source": [
    "# 데이터 학습 및 검증 결과\n",
    "dlmod1.show()"
   ]
  },
  {
   "cell_type": "markdown",
   "metadata": {},
   "source": [
    "## 모델 테스트\n",
    "\n",
    "복수의 모델을 만들어서 train / valid 간의 MSE 차이 등을 통해 가장 좋은 성능을 보인 모델을 선택해야 하나 이 과정은 생략하였음.\n",
    "\n",
    "위에서 생성한 모델에 test 데이터를 넣어 값을 예측하였음"
   ]
  },
  {
   "cell_type": "code",
   "execution_count": 12,
   "metadata": {},
   "outputs": [
    {
     "name": "stdout",
     "output_type": "stream",
     "text": [
      "deeplearning prediction progress: |███████████████████████████████████████| 100%\n"
     ]
    }
   ],
   "source": [
    "yhat = dlmod1.predict(test)"
   ]
  },
  {
   "cell_type": "code",
   "execution_count": 13,
   "metadata": {},
   "outputs": [
    {
     "data": {
      "text/html": [
       "<table>\n",
       "<thead>\n",
       "<tr><th style=\"text-align: right;\">  predict</th></tr>\n",
       "</thead>\n",
       "<tbody>\n",
       "<tr><td style=\"text-align: right;\">  5.69824</td></tr>\n",
       "<tr><td style=\"text-align: right;\">  6.4496 </td></tr>\n",
       "<tr><td style=\"text-align: right;\">  5.56955</td></tr>\n",
       "<tr><td style=\"text-align: right;\">  6.28495</td></tr>\n",
       "<tr><td style=\"text-align: right;\">  5.75692</td></tr>\n",
       "<tr><td style=\"text-align: right;\">  5.52067</td></tr>\n",
       "<tr><td style=\"text-align: right;\">  5.7281 </td></tr>\n",
       "<tr><td style=\"text-align: right;\">  5.53897</td></tr>\n",
       "<tr><td style=\"text-align: right;\">  5.11098</td></tr>\n",
       "<tr><td style=\"text-align: right;\">  5.16609</td></tr>\n",
       "</tbody>\n",
       "</table>"
      ]
     },
     "metadata": {},
     "output_type": "display_data"
    },
    {
     "data": {
      "text/plain": []
     },
     "execution_count": 13,
     "metadata": {},
     "output_type": "execute_result"
    }
   ],
   "source": [
    "#예측된 값\n",
    "yhat"
   ]
  }
 ],
 "metadata": {
  "kernelspec": {
   "display_name": "Python [conda root]",
   "language": "python",
   "name": "conda-root-py"
  },
  "language_info": {
   "codemirror_mode": {
    "name": "ipython",
    "version": 3
   },
   "file_extension": ".py",
   "mimetype": "text/x-python",
   "name": "python",
   "nbconvert_exporter": "python",
   "pygments_lexer": "ipython3",
   "version": "3.6.1"
  }
 },
 "nbformat": 4,
 "nbformat_minor": 2
}
