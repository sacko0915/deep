{
 "cells": [
  {
   "cell_type": "markdown",
   "metadata": {},
   "source": [
    "# H2O를 활용한 정형데이터 딥러닝 분석 - 분류 classification\n",
    "\n",
    "본 실습은 Chicago에서 2016년 2월에 열렸던 세미나를 참고하였음 http://open.h2o.ai/chicago.html\n",
    "\n",
    "## H2O 설치\n",
    "\n",
    "먼저 파이썬 환경에서 실습하기 위해서는 h2o python module을 설치해야 함\n",
    "Python 버전은 2.7 or 3.5+\n",
    "\n",
    "    pip install requests\n",
    "    pip install tabulate\n",
    "    pip install scikit-learn\n",
    "    pip install colorama\n",
    "    pip install future\n",
    "    pip install https://h2o-release.s3.amazonaws.com/h2o/rel-weierstrass/6/Python/h2o-3.14.0.6-py2.py3-none-any.whl\n",
    "\n",
    "만약 최신버전이 나왔다면\n",
    "\n",
    "    pip uninstall h2o\n",
    "    \n",
    "로 기존 h2o를 제거하고 새로운 버전의 h2o를 설치하면 된다"
   ]
  },
  {
   "cell_type": "markdown",
   "metadata": {},
   "source": [
    "## 1. H2O 실습환경 구축\n",
    "\n",
    "H2O cluster를 local (laptop / desktop)에서 구동할 수 있도록 한다"
   ]
  },
  {
   "cell_type": "code",
   "execution_count": 1,
   "metadata": {},
   "outputs": [
    {
     "name": "stdout",
     "output_type": "stream",
     "text": [
      "Checking whether there is an H2O instance running at http://localhost:54321..... not found.\n",
      "Attempting to start a local H2O server...\n",
      "; Java HotSpot(TM) 64-Bit Server VM (build 25.131-b11, mixed mode)\n",
      "  Starting server from C:\\ProgramData\\Anaconda3\\lib\\site-packages\\h2o\\backend\\bin\\h2o.jar\n",
      "  Ice root: C:\\Users\\DAVIDO~1\\AppData\\Local\\Temp\\tmp7qyqjaz1\n",
      "  JVM stdout: C:\\Users\\DAVIDO~1\\AppData\\Local\\Temp\\tmp7qyqjaz1\\h2o_David_Oh_started_from_python.out\n",
      "  JVM stderr: C:\\Users\\DAVIDO~1\\AppData\\Local\\Temp\\tmp7qyqjaz1\\h2o_David_Oh_started_from_python.err\n",
      "  Server is running at http://127.0.0.1:54321\n",
      "Connecting to H2O server at http://127.0.0.1:54321... successful.\n"
     ]
    },
    {
     "data": {
      "text/html": [
       "<div style=\"overflow:auto\"><table style=\"width:50%\"><tr><td>H2O cluster uptime:</td>\n",
       "<td>03 secs</td></tr>\n",
       "<tr><td>H2O cluster version:</td>\n",
       "<td>3.14.0.6</td></tr>\n",
       "<tr><td>H2O cluster version age:</td>\n",
       "<td>7 days, 14 hours and 42 minutes </td></tr>\n",
       "<tr><td>H2O cluster name:</td>\n",
       "<td>H2O_from_python_David_Oh_2r3fj9</td></tr>\n",
       "<tr><td>H2O cluster total nodes:</td>\n",
       "<td>1</td></tr>\n",
       "<tr><td>H2O cluster free memory:</td>\n",
       "<td>3.556 Gb</td></tr>\n",
       "<tr><td>H2O cluster total cores:</td>\n",
       "<td>4</td></tr>\n",
       "<tr><td>H2O cluster allowed cores:</td>\n",
       "<td>4</td></tr>\n",
       "<tr><td>H2O cluster status:</td>\n",
       "<td>accepting new members, healthy</td></tr>\n",
       "<tr><td>H2O connection url:</td>\n",
       "<td>http://127.0.0.1:54321</td></tr>\n",
       "<tr><td>H2O connection proxy:</td>\n",
       "<td>None</td></tr>\n",
       "<tr><td>H2O internal security:</td>\n",
       "<td>False</td></tr>\n",
       "<tr><td>H2O API Extensions:</td>\n",
       "<td>Algos, AutoML, Core V3, Core V4</td></tr>\n",
       "<tr><td>Python version:</td>\n",
       "<td>3.6.1 final</td></tr></table></div>"
      ],
      "text/plain": [
       "--------------------------  -------------------------------\n",
       "H2O cluster uptime:         03 secs\n",
       "H2O cluster version:        3.14.0.6\n",
       "H2O cluster version age:    7 days, 14 hours and 42 minutes\n",
       "H2O cluster name:           H2O_from_python_David_Oh_2r3fj9\n",
       "H2O cluster total nodes:    1\n",
       "H2O cluster free memory:    3.556 Gb\n",
       "H2O cluster total cores:    4\n",
       "H2O cluster allowed cores:  4\n",
       "H2O cluster status:         accepting new members, healthy\n",
       "H2O connection url:         http://127.0.0.1:54321\n",
       "H2O connection proxy:\n",
       "H2O internal security:      False\n",
       "H2O API Extensions:         Algos, AutoML, Core V3, Core V4\n",
       "Python version:             3.6.1 final\n",
       "--------------------------  -------------------------------"
      ]
     },
     "metadata": {},
     "output_type": "display_data"
    }
   ],
   "source": [
    "import h2o\n",
    "\n",
    "# 컴퓨터 자원 사용을 어떻게 할 것인지 nthreads 로 cpu core 개수를, max_mem_size로 memory(GB)를 설정\n",
    "# nthreads = -1은 모든 코어 사용하겠다는 의미\n",
    "h2o.init(nthreads = -1, max_mem_size = 4)"
   ]
  },
  {
   "cell_type": "markdown",
   "metadata": {},
   "source": [
    "## 2. 데이터 준비\n",
    "\n",
    "### 데이터 입력\n",
    "입력할 데이터는 렌딩클럽(lending club)의 전처리된 \"Bad Loans\" 데이터셋이다. 이번 실습의 목적은 대출상환 여부를 예측하는 모델을 만드는 것이다. 총 15개의 cloumns과 163987개의 rows로 구성되어 있으며. Target variable은 'bad_loan'이다. 아래는 분석하려는 데이터의 원본 형태이다.\n",
    "\n",
    "\"loan_amnt\",\"term\",\"int_rate\",\"emp_length\",\"home_ownership\",\"annual_inc\",\"purpose\",\"addr_state\",\"dti\",\"delinq_2yrs\",\"revol_util\",\"total_acc\",\"bad_loan\",\"longest_credit_length\",\"verification_status\"\n",
    "5000,\"36 months\",10.65,10,\"RENT\",24000.0,\"credit_card\",\"AZ\",27.650000000000002,0,83.7,9,0,26,\"verified\"\n",
    "2500,\"60 months\",15.27,0,\"RENT\",30000.0,\"car\",\"GA\",1.0,0,9.4,4,1,12,\"verified\"\n",
    "2400,\"36 months\",15.96,10,\"RENT\",12252.0,\"small_business\",\"IL\",8.72,0,98.5,10,0,10,\"not verified\"\n",
    "\n",
    "\"bad loan\" 컬럼의 값은 만약 대출상환이 안됐다면(bad loan) 1, 됐으면 0이다."
   ]
  },
  {
   "cell_type": "code",
   "execution_count": 9,
   "metadata": {},
   "outputs": [
    {
     "name": "stdout",
     "output_type": "stream",
     "text": [
      "Parse progress: |█████████████████████████████████████████████████████████| 100%\n"
     ]
    }
   ],
   "source": [
    "loan_csv = \"https://raw.githubusercontent.com/h2oai/app-consumer-loan/master/data/loan.csv\"\n",
    "data = h2o.import_file(loan_csv)"
   ]
  },
  {
   "cell_type": "code",
   "execution_count": 10,
   "metadata": {},
   "outputs": [
    {
     "data": {
      "text/plain": [
       "(163987, 15)"
      ]
     },
     "execution_count": 10,
     "metadata": {},
     "output_type": "execute_result"
    }
   ],
   "source": [
    "data.shape"
   ]
  },
  {
   "cell_type": "code",
   "execution_count": 11,
   "metadata": {},
   "outputs": [
    {
     "data": {
      "text/html": [
       "<table>\n",
       "<thead>\n",
       "<tr><th style=\"text-align: right;\">  loan_amnt</th><th>term     </th><th style=\"text-align: right;\">  int_rate</th><th style=\"text-align: right;\">  emp_length</th><th>home_ownership  </th><th style=\"text-align: right;\">  annual_inc</th><th>purpose       </th><th>addr_state  </th><th style=\"text-align: right;\">  dti</th><th style=\"text-align: right;\">  delinq_2yrs</th><th style=\"text-align: right;\">  revol_util</th><th style=\"text-align: right;\">  total_acc</th><th style=\"text-align: right;\">  bad_loan</th><th style=\"text-align: right;\">  longest_credit_length</th><th>verification_status  </th></tr>\n",
       "</thead>\n",
       "<tbody>\n",
       "<tr><td style=\"text-align: right;\">       5000</td><td>36 months</td><td style=\"text-align: right;\">     10.65</td><td style=\"text-align: right;\">          10</td><td>RENT            </td><td style=\"text-align: right;\">       24000</td><td>credit_card   </td><td>AZ          </td><td style=\"text-align: right;\">27.65</td><td style=\"text-align: right;\">            0</td><td style=\"text-align: right;\">        83.7</td><td style=\"text-align: right;\">          9</td><td style=\"text-align: right;\">         0</td><td style=\"text-align: right;\">                     26</td><td>verified             </td></tr>\n",
       "<tr><td style=\"text-align: right;\">       2500</td><td>60 months</td><td style=\"text-align: right;\">     15.27</td><td style=\"text-align: right;\">           0</td><td>RENT            </td><td style=\"text-align: right;\">       30000</td><td>car           </td><td>GA          </td><td style=\"text-align: right;\"> 1   </td><td style=\"text-align: right;\">            0</td><td style=\"text-align: right;\">         9.4</td><td style=\"text-align: right;\">          4</td><td style=\"text-align: right;\">         1</td><td style=\"text-align: right;\">                     12</td><td>verified             </td></tr>\n",
       "<tr><td style=\"text-align: right;\">       2400</td><td>36 months</td><td style=\"text-align: right;\">     15.96</td><td style=\"text-align: right;\">          10</td><td>RENT            </td><td style=\"text-align: right;\">       12252</td><td>small_business</td><td>IL          </td><td style=\"text-align: right;\"> 8.72</td><td style=\"text-align: right;\">            0</td><td style=\"text-align: right;\">        98.5</td><td style=\"text-align: right;\">         10</td><td style=\"text-align: right;\">         0</td><td style=\"text-align: right;\">                     10</td><td>not verified         </td></tr>\n",
       "<tr><td style=\"text-align: right;\">      10000</td><td>36 months</td><td style=\"text-align: right;\">     13.49</td><td style=\"text-align: right;\">          10</td><td>RENT            </td><td style=\"text-align: right;\">       49200</td><td>other         </td><td>CA          </td><td style=\"text-align: right;\">20   </td><td style=\"text-align: right;\">            0</td><td style=\"text-align: right;\">        21  </td><td style=\"text-align: right;\">         37</td><td style=\"text-align: right;\">         0</td><td style=\"text-align: right;\">                     15</td><td>verified             </td></tr>\n",
       "<tr><td style=\"text-align: right;\">       5000</td><td>36 months</td><td style=\"text-align: right;\">      7.9 </td><td style=\"text-align: right;\">           3</td><td>RENT            </td><td style=\"text-align: right;\">       36000</td><td>wedding       </td><td>AZ          </td><td style=\"text-align: right;\">11.2 </td><td style=\"text-align: right;\">            0</td><td style=\"text-align: right;\">        28.3</td><td style=\"text-align: right;\">         12</td><td style=\"text-align: right;\">         0</td><td style=\"text-align: right;\">                      7</td><td>verified             </td></tr>\n",
       "</tbody>\n",
       "</table>"
      ]
     },
     "metadata": {},
     "output_type": "display_data"
    },
    {
     "data": {
      "text/plain": []
     },
     "execution_count": 11,
     "metadata": {},
     "output_type": "execute_result"
    }
   ],
   "source": [
    "data.head(5)"
   ]
  },
  {
   "cell_type": "markdown",
   "metadata": {},
   "source": [
    "### Target variable 변환\n",
    "target variable인 'bad_loan'은 현재 numerical value이므로 factor로 변경해야 함"
   ]
  },
  {
   "cell_type": "code",
   "execution_count": 12,
   "metadata": {},
   "outputs": [
    {
     "data": {
      "text/plain": [
       "[['0', '1']]"
      ]
     },
     "execution_count": 12,
     "metadata": {},
     "output_type": "execute_result"
    }
   ],
   "source": [
    "data['bad_loan'] = data['bad_loan'].asfactor()\n",
    "data['bad_loan'].levels()"
   ]
  },
  {
   "cell_type": "markdown",
   "metadata": {},
   "source": [
    "### 데이터 분할 작업\n",
    "data를 3개로 분할하여 모델을 만들고 검증 및 테스트할 것임 \n",
    "\n",
    "    training: 70%\n",
    "    validation: 15%\n",
    "    test: 15%"
   ]
  },
  {
   "cell_type": "code",
   "execution_count": 13,
   "metadata": {
    "collapsed": true
   },
   "outputs": [],
   "source": [
    "splits = data.split_frame(ratios = [0.7, 0.15], seed=1) #seed를 설정하여 재현가능성을 높일 수 있음\n",
    "\n",
    "train = splits[0]\n",
    "valid = splits[1]\n",
    "test = splits[2]\n",
    "#정확하게 70%, 15%, 15%으로 나누는 것은 아니니 이점 참고하자"
   ]
  },
  {
   "cell_type": "code",
   "execution_count": 14,
   "metadata": {},
   "outputs": [
    {
     "name": "stdout",
     "output_type": "stream",
     "text": [
      "114908\n",
      "24498\n",
      "24581\n"
     ]
    }
   ],
   "source": [
    "print (train.nrow)\n",
    "print (valid.nrow)\n",
    "print (test.nrow)"
   ]
  },
  {
   "cell_type": "markdown",
   "metadata": {},
   "source": [
    "### Target과 Input variables 설정\n"
   ]
  },
  {
   "cell_type": "code",
   "execution_count": 15,
   "metadata": {
    "collapsed": true
   },
   "outputs": [],
   "source": [
    "y = 'bad_loan'\n",
    "x = list(data.columns)"
   ]
  },
  {
   "cell_type": "code",
   "execution_count": 17,
   "metadata": {},
   "outputs": [],
   "source": [
    "#변수 설정\n",
    "x.remove(y)\n",
    "x.remove('int_rate') #int_rate은 상관관계 분석 결과 outcome과 상관이 있는 것으로 나타나 제거"
   ]
  },
  {
   "cell_type": "code",
   "execution_count": 21,
   "metadata": {},
   "outputs": [
    {
     "name": "stdout",
     "output_type": "stream",
     "text": [
      "['loan_amnt', 'term', 'emp_length', 'home_ownership', 'annual_inc', 'purpose', 'addr_state', 'dti', 'delinq_2yrs', 'revol_util', 'total_acc', 'longest_credit_length', 'verification_status']\n",
      "bad_loan\n"
     ]
    }
   ],
   "source": [
    "print (x)\n",
    "print (y)"
   ]
  },
  {
   "cell_type": "markdown",
   "metadata": {},
   "source": [
    "## 3. 데이터 모델링 with Deep Learning\n",
    "H2O's Deep Learning algorithm은 a multilayer feed-forward artificial neural network 방식이다. autoencoder 학습을 위해서도 사용할 수 있다. 이번 실습에서는 loan data로 지도학습 예측 모델을 학습하는 것으로 했다."
   ]
  },
  {
   "cell_type": "code",
   "execution_count": 22,
   "metadata": {
    "collapsed": true
   },
   "outputs": [],
   "source": [
    "from h2o.estimators.deeplearning import H2ODeepLearningEstimator"
   ]
  },
  {
   "cell_type": "markdown",
   "metadata": {},
   "source": [
    "먼저 default paramer 값으로 기본적인 딥러닝 모델을 학습한다. 아래는 H2O의 딥러닝 관련 reference 요약문이다.\n",
    "First we will train a basic DL model with default parameters. DL will infer the response distribution from the response encoding if not specified explicitly through the distribution argument. H2O's DL will not be reproducbible if run on more than a single core, so in this example, the performance metrics below may vary slightly from what you see on your machine.\n",
    "\n",
    "In H2O's DL, early stopping is enabled by default, so below, it will use the training set and default stopping parameters to perform early stopping.\n"
   ]
  },
  {
   "cell_type": "code",
   "execution_count": 23,
   "metadata": {},
   "outputs": [
    {
     "name": "stdout",
     "output_type": "stream",
     "text": [
      "deeplearning Model Build progress: |██████████████████████████████████████| 100%\n"
     ]
    }
   ],
   "source": [
    "# Initialize and train the DL estimator:\n",
    "\n",
    "dl_fit1 = H2ODeepLearningEstimator(model_id='dl_fit1', seed=1)\n",
    "dl_fit1.train(x=x, y=y, training_frame=train)"
   ]
  },
  {
   "cell_type": "markdown",
   "metadata": {},
   "source": [
    "### Train with new architecture and more epochs\n",
    "\n",
    "이번에는 epoch의 숫자를 늘려보겠는데 더 좋은 성능을 기대할 수 있지만 그만큼 오버피팅의 위험도 증가한다. H2O에는 최적의 epoch 수를 찾아주는 early stopping functionality라는 기능을 제공하고 있다. default로 early stopping을 사용하고 있다. 'stopping_rounds' 파라미터 값을 0으로 할 때는 이 기능을 끌 수 있다."
   ]
  },
  {
   "cell_type": "code",
   "execution_count": 24,
   "metadata": {},
   "outputs": [
    {
     "name": "stdout",
     "output_type": "stream",
     "text": [
      "deeplearning Model Build progress: |██████████████████████████████████████| 100%\n"
     ]
    }
   ],
   "source": [
    "dl_fit2 = H2ODeepLearningEstimator(model_id='dl_fit2', \n",
    "                                   epochs=20, \n",
    "                                   hidden=[10,10], \n",
    "                                   stopping_rounds=0,  # early stopping 비활성화\n",
    "                                   seed=1)\n",
    "dl_fit2.train(x=x, y=y, training_frame=train)"
   ]
  },
  {
   "cell_type": "markdown",
   "metadata": {},
   "source": [
    "### Train DL with early stopping\n",
    "\n",
    "앞서 만들었던 모델과 동일한 parameter 값을 주고 early stopping은 활성화하고 early stop의 기준을 설정한다. 아래에서는 AUC를 기준으로 했다."
   ]
  },
  {
   "cell_type": "code",
   "execution_count": 25,
   "metadata": {},
   "outputs": [
    {
     "name": "stdout",
     "output_type": "stream",
     "text": [
      "deeplearning Model Build progress: |██████████████████████████████████████| 100%\n"
     ]
    }
   ],
   "source": [
    "dl_fit3 = H2ODeepLearningEstimator(model_id='dl_fit3', \n",
    "                                   epochs=20, \n",
    "                                   hidden=[10,10],\n",
    "                                   score_interval=1,          #used for early stopping\n",
    "                                   stopping_rounds=3,         #used for early stopping\n",
    "                                   stopping_metric='AUC',     #used for early stopping\n",
    "                                   stopping_tolerance=0.0005, #used for early stopping\n",
    "                                   seed=1)\n",
    "dl_fit3.train(x=x, y=y, training_frame=train, validation_frame=valid)"
   ]
  },
  {
   "cell_type": "markdown",
   "metadata": {},
   "source": [
    "### 모델간 성능 비교\n",
    "\n",
    "test 데이터를 통해서 AUC를 기준으로 모델의 성능을 비교해보았다."
   ]
  },
  {
   "cell_type": "code",
   "execution_count": 26,
   "metadata": {
    "collapsed": true
   },
   "outputs": [],
   "source": [
    "dl_perf1 = dl_fit1.model_performance(test)\n",
    "dl_perf2 = dl_fit2.model_performance(test)\n",
    "dl_perf3 = dl_fit3.model_performance(test)"
   ]
  },
  {
   "cell_type": "code",
   "execution_count": 28,
   "metadata": {},
   "outputs": [
    {
     "name": "stdout",
     "output_type": "stream",
     "text": [
      "0.6815131460573379\n",
      "0.6789750104322544\n",
      "0.6811862996300405\n"
     ]
    }
   ],
   "source": [
    "print (dl_perf1.auc()) #가장 높은 성능을 보였다.\n",
    "print (dl_perf2.auc())\n",
    "print (dl_perf3.auc())"
   ]
  },
  {
   "cell_type": "code",
   "execution_count": 29,
   "metadata": {},
   "outputs": [
    {
     "data": {
      "text/html": [
       "<div>\n",
       "<style>\n",
       "    .dataframe thead tr:only-child th {\n",
       "        text-align: right;\n",
       "    }\n",
       "\n",
       "    .dataframe thead th {\n",
       "        text-align: left;\n",
       "    }\n",
       "\n",
       "    .dataframe tbody tr th {\n",
       "        vertical-align: top;\n",
       "    }\n",
       "</style>\n",
       "<table border=\"1\" class=\"dataframe\">\n",
       "  <thead>\n",
       "    <tr style=\"text-align: right;\">\n",
       "      <th></th>\n",
       "      <th></th>\n",
       "      <th>timestamp</th>\n",
       "      <th>duration</th>\n",
       "      <th>training_speed</th>\n",
       "      <th>epochs</th>\n",
       "      <th>iterations</th>\n",
       "      <th>samples</th>\n",
       "      <th>training_rmse</th>\n",
       "      <th>training_logloss</th>\n",
       "      <th>training_auc</th>\n",
       "      <th>training_lift</th>\n",
       "      <th>training_classification_error</th>\n",
       "      <th>validation_rmse</th>\n",
       "      <th>validation_logloss</th>\n",
       "      <th>validation_auc</th>\n",
       "      <th>validation_lift</th>\n",
       "      <th>validation_classification_error</th>\n",
       "    </tr>\n",
       "  </thead>\n",
       "  <tbody>\n",
       "    <tr>\n",
       "      <th>0</th>\n",
       "      <td></td>\n",
       "      <td>2017-10-17 16:14:10</td>\n",
       "      <td>0.000 sec</td>\n",
       "      <td>None</td>\n",
       "      <td>0.000000</td>\n",
       "      <td>0</td>\n",
       "      <td>0.0</td>\n",
       "      <td>NaN</td>\n",
       "      <td>NaN</td>\n",
       "      <td>NaN</td>\n",
       "      <td>NaN</td>\n",
       "      <td>NaN</td>\n",
       "      <td>NaN</td>\n",
       "      <td>NaN</td>\n",
       "      <td>NaN</td>\n",
       "      <td>NaN</td>\n",
       "      <td>NaN</td>\n",
       "    </tr>\n",
       "    <tr>\n",
       "      <th>1</th>\n",
       "      <td></td>\n",
       "      <td>2017-10-17 16:14:11</td>\n",
       "      <td>0.691 sec</td>\n",
       "      <td>258741 obs/sec</td>\n",
       "      <td>0.871419</td>\n",
       "      <td>1</td>\n",
       "      <td>100133.0</td>\n",
       "      <td>0.383815</td>\n",
       "      <td>0.474358</td>\n",
       "      <td>0.656550</td>\n",
       "      <td>2.558203</td>\n",
       "      <td>0.378641</td>\n",
       "      <td>0.383771</td>\n",
       "      <td>0.474360</td>\n",
       "      <td>0.658069</td>\n",
       "      <td>2.597762</td>\n",
       "      <td>0.411911</td>\n",
       "    </tr>\n",
       "    <tr>\n",
       "      <th>2</th>\n",
       "      <td></td>\n",
       "      <td>2017-10-17 16:14:12</td>\n",
       "      <td>2.275 sec</td>\n",
       "      <td>382042 obs/sec</td>\n",
       "      <td>6.087653</td>\n",
       "      <td>7</td>\n",
       "      <td>699520.0</td>\n",
       "      <td>0.376736</td>\n",
       "      <td>0.450241</td>\n",
       "      <td>0.675731</td>\n",
       "      <td>2.830353</td>\n",
       "      <td>0.419600</td>\n",
       "      <td>0.376646</td>\n",
       "      <td>0.450089</td>\n",
       "      <td>0.677478</td>\n",
       "      <td>2.487688</td>\n",
       "      <td>0.332884</td>\n",
       "    </tr>\n",
       "    <tr>\n",
       "      <th>3</th>\n",
       "      <td></td>\n",
       "      <td>2017-10-17 16:14:14</td>\n",
       "      <td>3.771 sec</td>\n",
       "      <td>411272 obs/sec</td>\n",
       "      <td>11.310092</td>\n",
       "      <td>13</td>\n",
       "      <td>1299620.0</td>\n",
       "      <td>0.377134</td>\n",
       "      <td>0.451596</td>\n",
       "      <td>0.676154</td>\n",
       "      <td>2.721493</td>\n",
       "      <td>0.383091</td>\n",
       "      <td>0.377061</td>\n",
       "      <td>0.451768</td>\n",
       "      <td>0.677449</td>\n",
       "      <td>2.663807</td>\n",
       "      <td>0.367785</td>\n",
       "    </tr>\n",
       "    <tr>\n",
       "      <th>4</th>\n",
       "      <td></td>\n",
       "      <td>2017-10-17 16:14:15</td>\n",
       "      <td>5.499 sec</td>\n",
       "      <td>422627 obs/sec</td>\n",
       "      <td>17.404132</td>\n",
       "      <td>20</td>\n",
       "      <td>1999874.0</td>\n",
       "      <td>0.379622</td>\n",
       "      <td>0.455766</td>\n",
       "      <td>0.680129</td>\n",
       "      <td>3.048072</td>\n",
       "      <td>0.326962</td>\n",
       "      <td>0.379891</td>\n",
       "      <td>0.456319</td>\n",
       "      <td>0.679761</td>\n",
       "      <td>2.619777</td>\n",
       "      <td>0.333497</td>\n",
       "    </tr>\n",
       "    <tr>\n",
       "      <th>5</th>\n",
       "      <td></td>\n",
       "      <td>2017-10-17 16:14:16</td>\n",
       "      <td>6.277 sec</td>\n",
       "      <td>429057 obs/sec</td>\n",
       "      <td>20.017571</td>\n",
       "      <td>23</td>\n",
       "      <td>2300179.0</td>\n",
       "      <td>0.377347</td>\n",
       "      <td>0.450836</td>\n",
       "      <td>0.675540</td>\n",
       "      <td>2.394914</td>\n",
       "      <td>0.370854</td>\n",
       "      <td>0.377771</td>\n",
       "      <td>0.452132</td>\n",
       "      <td>0.672465</td>\n",
       "      <td>2.663807</td>\n",
       "      <td>0.347743</td>\n",
       "    </tr>\n",
       "    <tr>\n",
       "      <th>6</th>\n",
       "      <td></td>\n",
       "      <td>2017-10-17 16:14:16</td>\n",
       "      <td>6.414 sec</td>\n",
       "      <td>427145 obs/sec</td>\n",
       "      <td>20.017571</td>\n",
       "      <td>23</td>\n",
       "      <td>2300179.0</td>\n",
       "      <td>0.379622</td>\n",
       "      <td>0.455766</td>\n",
       "      <td>0.680129</td>\n",
       "      <td>3.048072</td>\n",
       "      <td>0.326962</td>\n",
       "      <td>0.379891</td>\n",
       "      <td>0.456319</td>\n",
       "      <td>0.679761</td>\n",
       "      <td>2.619777</td>\n",
       "      <td>0.333497</td>\n",
       "    </tr>\n",
       "  </tbody>\n",
       "</table>\n",
       "</div>"
      ],
      "text/plain": [
       "               timestamp    duration  training_speed     epochs  iterations  \\\n",
       "0    2017-10-17 16:14:10   0.000 sec            None   0.000000           0   \n",
       "1    2017-10-17 16:14:11   0.691 sec  258741 obs/sec   0.871419           1   \n",
       "2    2017-10-17 16:14:12   2.275 sec  382042 obs/sec   6.087653           7   \n",
       "3    2017-10-17 16:14:14   3.771 sec  411272 obs/sec  11.310092          13   \n",
       "4    2017-10-17 16:14:15   5.499 sec  422627 obs/sec  17.404132          20   \n",
       "5    2017-10-17 16:14:16   6.277 sec  429057 obs/sec  20.017571          23   \n",
       "6    2017-10-17 16:14:16   6.414 sec  427145 obs/sec  20.017571          23   \n",
       "\n",
       "     samples  training_rmse  training_logloss  training_auc  training_lift  \\\n",
       "0        0.0            NaN               NaN           NaN            NaN   \n",
       "1   100133.0       0.383815          0.474358      0.656550       2.558203   \n",
       "2   699520.0       0.376736          0.450241      0.675731       2.830353   \n",
       "3  1299620.0       0.377134          0.451596      0.676154       2.721493   \n",
       "4  1999874.0       0.379622          0.455766      0.680129       3.048072   \n",
       "5  2300179.0       0.377347          0.450836      0.675540       2.394914   \n",
       "6  2300179.0       0.379622          0.455766      0.680129       3.048072   \n",
       "\n",
       "   training_classification_error  validation_rmse  validation_logloss  \\\n",
       "0                            NaN              NaN                 NaN   \n",
       "1                       0.378641         0.383771            0.474360   \n",
       "2                       0.419600         0.376646            0.450089   \n",
       "3                       0.383091         0.377061            0.451768   \n",
       "4                       0.326962         0.379891            0.456319   \n",
       "5                       0.370854         0.377771            0.452132   \n",
       "6                       0.326962         0.379891            0.456319   \n",
       "\n",
       "   validation_auc  validation_lift  validation_classification_error  \n",
       "0             NaN              NaN                              NaN  \n",
       "1        0.658069         2.597762                         0.411911  \n",
       "2        0.677478         2.487688                         0.332884  \n",
       "3        0.677449         2.663807                         0.367785  \n",
       "4        0.679761         2.619777                         0.333497  \n",
       "5        0.672465         2.663807                         0.347743  \n",
       "6        0.679761         2.619777                         0.333497  "
      ]
     },
     "execution_count": 29,
     "metadata": {},
     "output_type": "execute_result"
    }
   ],
   "source": [
    "dl_fit3.scoring_history()"
   ]
  },
  {
   "cell_type": "code",
   "execution_count": 33,
   "metadata": {},
   "outputs": [
    {
     "name": "stdout",
     "output_type": "stream",
     "text": [
      "[[0.8778770103188119, 1.0]]\n",
      "[[0.6879366528374184, 1.0]]\n",
      "[[0.6912144478543738, 1.0]]\n"
     ]
    }
   ],
   "source": [
    "print (dl_perf1.precision())\n",
    "print (dl_perf2.precision())\n",
    "print (dl_perf3.precision())"
   ]
  },
  {
   "cell_type": "code",
   "execution_count": 34,
   "metadata": {},
   "outputs": [
    {
     "name": "stdout",
     "output_type": "stream",
     "text": [
      "[WARNING] in <ipython-input-34-bd1e984f485f> line 1:\n",
      "    >>> h2o.shutdown()\n",
      "        ^^^^ Deprecated, use ``h2o.cluster().shutdown()``.\n",
      "H2O session _sid_b46b closed.\n"
     ]
    }
   ],
   "source": [
    "h2o.shutdown()"
   ]
  }
 ],
 "metadata": {
  "kernelspec": {
   "display_name": "Python [conda root]",
   "language": "python",
   "name": "conda-root-py"
  },
  "language_info": {
   "codemirror_mode": {
    "name": "ipython",
    "version": 3
   },
   "file_extension": ".py",
   "mimetype": "text/x-python",
   "name": "python",
   "nbconvert_exporter": "python",
   "pygments_lexer": "ipython3",
   "version": "3.6.1"
  }
 },
 "nbformat": 4,
 "nbformat_minor": 2
}
